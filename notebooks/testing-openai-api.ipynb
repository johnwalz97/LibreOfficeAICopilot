{
 "cells": [
  {
   "cell_type": "code",
   "execution_count": 1,
   "metadata": {},
   "outputs": [],
   "source": [
    "import openai\n",
    "import dotenv\n",
    "\n",
    "dotenv.load_dotenv(\"../.env\")"
   ]
  },
  {
   "cell_type": "code",
   "execution_count": 12,
   "metadata": {},
   "outputs": [],
   "source": [
    "def call_api(text):\n",
    "    # call gpt-3.5-turbo model\n",
    "    response = openai.ChatCompletion.create(\n",
    "        model=\"gpt-3.5-turbo\",\n",
    "        messages=[\n",
    "            {\n",
    "                \"role\": \"user\",\n",
    "                \"content\": text,\n",
    "            },\n",
    "        ]\n",
    "    )\n",
    "    return response"
   ]
  },
  {
   "cell_type": "code",
   "execution_count": 45,
   "metadata": {},
   "outputs": [],
   "source": [
    "response = call_api(\"\"\"\n",
    "Complete the following PROMPT_TEXT with your best guess as to what comes after the [CURSOR_LOCATION].\n",
    "Imagine that you are a human writing a document.\n",
    "You will match the style, formatting and tone of the PROMPT_TEXT.\n",
    "You will not change the PROMPT_TEXT but add your own text to it at the location designated by [CURSOR_LOCATION].\n",
    "You will respond with just the text to be inserted at the [CURSOR_LOCATION].\n",
    "You will try to make your response as long as possible.\n",
    "\n",
    "\n",
    "\n",
    "Example:\n",
    "PROMPT_TEXT=```\n",
    "There are a lot of ways that AI can improve your life. While some of them are still in the early stages of development, [CURSOR_LOCATION]\n",
    "```\n",
    "RESPONSE=```\n",
    " there are many that you can use today.\n",
    "\n",
    "One great way to start incorporating AI into your life is to use it to help you with your meal-planning. You can use AI to help you plan your meals, and even to help you find recipes that you might not have thought of before. Some of the most powerful AI models today can even understand the ingredients that you have on hand and create recipes from scratch based on them.\n",
    "```\n",
    "\n",
    "Example:\n",
    "PROMPT_TEXT=```\n",
    "I just returned from a three month sabbatical spent mostly offline diving through history and I feel like I’ve returned to an alien planet full of serious utopian and dystopian thinking swirling simultaneously. I find myself nodding along because both the best case and worst case scenarios could happen. But also cringing because the passion behind these declarations has no room for nuance. Everything feels extreme and fully of binaries. I am truly astonished by the the deeply entrenched deterministic thinking that feels pervasive in these conversations.\n",
    "\n",
    "[CURSOR_LOCATION]\n",
    "\n",
    "What is deterministic thinking?\n",
    "Simply put, determinism is “if x, then y.” It is the notion that if we do something (x), a particular outcome (y) is inevitable. Determinisms are not inherently positive or negative. It is just as deterministic to say “if we build social media, the world will be a more connected place” as it is to say “social media will destroy democracy.”\n",
    "```\n",
    "RESPONSE=```\n",
    "Deterministic thinking is a blinkering force, the very opposite of rationality even though many people who espouse deterministic thinking believe themselves to be hyper rational. Deterministic thinking tends to seed polarization and distrust as people become entrenched in their vision of the future. Returning to the modern world, I’m finding myself frantically waving my hands in a desperate attempt to get those around me to take a deep breath (or maybe 100 of them). Given that few people can see my hand movements from my home office, I’m going to pretend like it’s 2004 and blog my thoughts in the hopes that this post might calm at least one person down. Or, maybe, if I’m lucky, it’ll be fed into an AI model and add a tiny bit of nuance.\n",
    "```\n",
    "\n",
    "\n",
    "\n",
    "PROMPT_TEXT=```\n",
    "There are many ways to improve the quality of your sleep. Here are some of the most effective ones:\n",
    "\n",
    "1. [CURSOR_LOCATION]\n",
    "```\n",
    "\"\"\")"
   ]
  },
  {
   "cell_type": "code",
   "execution_count": 46,
   "metadata": {},
   "outputs": [],
   "source": [
    "message = response.choices[0].message.content.strip()"
   ]
  },
  {
   "cell_type": "code",
   "execution_count": 47,
   "metadata": {},
   "outputs": [
    {
     "name": "stdout",
     "output_type": "stream",
     "text": [
      "The first and most important step to improving the quality of your sleep is to establish a consistent sleep schedule. Aim to go to bed and wake up at the same time every day, even on the weekends. This helps regulate your body's natural sleep-wake cycle and can make it easier to fall asleep and wake up feeling rested. It may take a few weeks for your body to adjust to this new routine, so be patient and stick with it. Once you've established a consistent sleep schedule, you can move on to other strategies for improving your sleep, such as creating a relaxing sleep environment and practicing relaxation techniques before bed.\n"
     ]
    }
   ],
   "source": [
    "print(message)"
   ]
  },
  {
   "cell_type": "code",
   "execution_count": 48,
   "metadata": {},
   "outputs": [],
   "source": [
    "text = \"\"\"There are many ways to improve the quality of your sleep. Here are some of the most effective ones:\n",
    "\n",
    "1. [CURSOR_LOCATION]\"\"\""
   ]
  },
  {
   "cell_type": "code",
   "execution_count": 49,
   "metadata": {},
   "outputs": [
    {
     "name": "stdout",
     "output_type": "stream",
     "text": [
      "There are many ways to improve the quality of your sleep. Here are some of the most effective ones:\n",
      "\n",
      "1. The first and most important step to improving the quality of your sleep is to establish a consistent sleep schedule. Aim to go to bed and wake up at the same time every day, even on the weekends. This helps regulate your body's natural sleep-wake cycle and can make it easier to fall asleep and wake up feeling rested. It may take a few weeks for your body to adjust to this new routine, so be patient and stick with it. Once you've established a consistent sleep schedule, you can move on to other strategies for improving your sleep, such as creating a relaxing sleep environment and practicing relaxation techniques before bed.\n"
     ]
    }
   ],
   "source": [
    "print(text.replace(\"[CURSOR_LOCATION]\", message))"
   ]
  },
  {
   "cell_type": "code",
   "execution_count": null,
   "metadata": {},
   "outputs": [],
   "source": [
    "\"\"\"\n",
    "\"\"\""
   ]
  }
 ],
 "metadata": {
  "kernelspec": {
   "display_name": "libreoffice-copilot--obLNlTe-py3.10",
   "language": "python",
   "name": "python3"
  },
  "language_info": {
   "codemirror_mode": {
    "name": "ipython",
    "version": 3
   },
   "file_extension": ".py",
   "mimetype": "text/x-python",
   "name": "python",
   "nbconvert_exporter": "python",
   "pygments_lexer": "ipython3",
   "version": "3.10.10"
  },
  "orig_nbformat": 4
 },
 "nbformat": 4,
 "nbformat_minor": 2
}
